{
  "cells": [
    {
      "cell_type": "markdown",
      "metadata": {
        "id": "view-in-github",
        "colab_type": "text"
      },
      "source": [
        "<a href=\"https://colab.research.google.com/github/r7him/Abderrahmen0102/blob/main/Suppliers_warehouse01_.ipynb\" target=\"_parent\"><img src=\"https://colab.research.google.com/assets/colab-badge.svg\" alt=\"Open In Colab\"/></a>"
      ]
    },
    {
      "cell_type": "code",
      "execution_count": 808,
      "metadata": {
        "id": "Y8ehfxg7ZRQT"
      },
      "outputs": [],
      "source": [
        "!pip install gurobipy >10\n",
        "from gurobipy import *\n",
        "import numpy as np \n",
        "import pandas as np"
      ]
    },
    {
      "cell_type": "code",
      "execution_count": 809,
      "metadata": {
        "id": "eORtzLauZc7_"
      },
      "outputs": [],
      "source": [
        "# Warehouse demand in thousands of units\n",
        "demand = [20, 10]\n",
        "waste= [15, 30]\n",
        "CL=[200, 30]"
      ]
    },
    {
      "cell_type": "code",
      "execution_count": 810,
      "metadata": {
        "id": "P26gqL9EgYuz"
      },
      "outputs": [],
      "source": [
        "# supplier capacity in thousands of units\n",
        "CS = [20, 15, 13,12]\n",
        "#warehouse capacity\n",
        "CW = [18, 22, 15]\n",
        "#warehouse capacity\n",
        "CG = [200, 100,50]\n",
        "CO = [200, 100]"
      ]
    },
    {
      "cell_type": "code",
      "execution_count": 811,
      "metadata": {
        "id": "UxQNfPFJgfeO"
      },
      "outputs": [],
      "source": [
        "# Fixed costs for selectin a supplier.\n",
        "Fs = [2000, 15000, 17000,10000]"
      ]
    },
    {
      "cell_type": "code",
      "execution_count": 812,
      "metadata": {
        "id": "9I2EvCkgCR26"
      },
      "outputs": [],
      "source": [
        "# Fixed costs for each warehouses.\n",
        "Fw = [16000, 15000,25000]"
      ]
    },
    {
      "cell_type": "code",
      "execution_count": 813,
      "metadata": {
        "id": "loFUs8k3tK1h"
      },
      "outputs": [],
      "source": [
        "# Fixed costs for each storage.\n",
        "Fg = [12000, 10000,17000]"
      ]
    },
    {
      "cell_type": "code",
      "source": [
        "# Fixed costs for each storage.\n",
        "Fo = [12000, 2500]"
      ],
      "metadata": {
        "id": "OlBNlNMka4M1"
      },
      "execution_count": 814,
      "outputs": []
    },
    {
      "cell_type": "code",
      "source": [
        "# Fixed costs for each landfills.\n",
        "Fl = [1200,25000]"
      ],
      "metadata": {
        "id": "D9rKs_ALtH8h"
      },
      "execution_count": 815,
      "outputs": []
    },
    {
      "cell_type": "code",
      "execution_count": 816,
      "metadata": {
        "id": "pr8oXtyUgiT9"
      },
      "outputs": [],
      "source": [
        "# Transportation costs from suppliers to warehouses\n",
        "TC_sw =       [[4000, 2000, 3000, 2500],\n",
        "              [2500, 2600, 3400, 3000],\n",
        "              [1200, 1800, 2600, 4100]]\n",
        "# Transportation costs from warehouses to healthcare centres\n",
        "\n",
        "TC_wh =      [[200, 150, 120],\n",
        "              [250, 260,130]]\n",
        "\n",
        "# Transportation costs of vaccine waste from to healthcare centres to waste storage.\n",
        "\n",
        "TC_hg=       [[4000, 2000],\n",
        "              [2500, 2600],\n",
        "              [1200, 1800]]\n",
        "# Transportation costs of vaccine waste from waste storage treatment storage.\n",
        "TC_go=       [[200, 10000, 1500],\n",
        "              [2500, 12000, 500]]\n",
        "\n",
        "TC_ol=     [[40, 200000],\n",
        "            [25000, 260000]]"
      ]
    },
    {
      "cell_type": "code",
      "execution_count": 817,
      "metadata": {
        "id": "aQfsWfarglyB"
      },
      "outputs": [],
      "source": [
        "# Range of plants and warehouses\n",
        "suppliers = range(len(CS))\n",
        "warehouses = range(len(CW))\n",
        "healthcentre= range(len(demand))\n",
        "healthwaste= range(len(waste))\n",
        "storages    = range(len(CG))\n",
        "treatments = range(len(waste))\n",
        "landfills = range(len(CL))"
      ]
    },
    {
      "cell_type": "code",
      "execution_count": 818,
      "metadata": {
        "id": "pXKlhOh7grFW"
      },
      "outputs": [],
      "source": [
        "m=Model()"
      ]
    },
    {
      "cell_type": "code",
      "execution_count": 819,
      "metadata": {
        "id": "Mns0JZycJwCB"
      },
      "outputs": [],
      "source": [
        "#suppliers open decision variables: S_s[s] == 1 if supplier s is open.\n",
        "S_s = m.addVars(suppliers,\n",
        "                 vtype=GRB.BINARY,\n",
        "                 obj=Fs,\n",
        "                 name=\"S_s\")\n",
        "# You could use Python looping constructs and m.addVar() to create\n",
        "# these decision variables instead.  The following would be equivalent\n",
        "# to the preceding two statements...\n",
        "# S_s  = []\n",
        "# for s in suppliers:\n",
        "#     S_s .append(m.addVar(vtype=GRB.BINARY,\n",
        "#                          obj=fixedCost12[s],\n",
        "#                          name=\"S_s[%d]\" % s))"
      ]
    },
    {
      "cell_type": "code",
      "execution_count": 820,
      "metadata": {
        "id": "IPvNcjS0gsu_"
      },
      "outputs": [],
      "source": [
        "#Warehous open decision variables: W_w[w] == 1 if warehouse w is open.\n",
        "W_w = m.addVars(warehouses,\n",
        "                 vtype=GRB.BINARY,\n",
        "                 obj=Fw,\n",
        "                 name=\"W_w\")"
      ]
    },
    {
      "cell_type": "code",
      "execution_count": 821,
      "metadata": {
        "id": "3hmRblXYuy2c"
      },
      "outputs": [],
      "source": [
        "G_g = m.addVars(storages,\n",
        "                vtype=GRB.BINARY, \n",
        "                obj=Fg , \n",
        "                name=\"G_g\")"
      ]
    },
    {
      "cell_type": "code",
      "source": [
        "O_o = m.addVars(treatments,\n",
        "                vtype=GRB.BINARY, \n",
        "                obj=Fo , \n",
        "                name=\"O_o\")"
      ],
      "metadata": {
        "id": "HuibfHKKblKP"
      },
      "execution_count": 822,
      "outputs": []
    },
    {
      "cell_type": "code",
      "source": [
        "L_l = m.addVars(landfills,\n",
        "                vtype=GRB.BINARY, \n",
        "                obj=Fl , \n",
        "                name=\"L_l\")"
      ],
      "metadata": {
        "id": "hccVWHU3s8OP"
      },
      "execution_count": 823,
      "outputs": []
    },
    {
      "cell_type": "code",
      "execution_count": 824,
      "metadata": {
        "id": "y0_ob50rhWmK"
      },
      "outputs": [],
      "source": [
        "# Transportation decision variables: transport[w,p] captures the\n",
        "# optimal quantity to transport to warehouse w from plant p\n",
        "(QS_sw)= m.addVars(warehouses,suppliers,obj=TC_sw, name=\"QS_sw\")"
      ]
    },
    {
      "cell_type": "code",
      "execution_count": 825,
      "metadata": {
        "id": "p0cJ2PKuFIkW"
      },
      "outputs": [],
      "source": [
        "# QW_w decision variables: QW_wh[w,p] captures the\n",
        "# optimal quantity to transport to warehouse w from supplier s\n",
        "QW_wh= m.addVars(healthcentre,warehouses, obj=TC_wh, name=\"QW_wh\")\n"
      ]
    },
    {
      "cell_type": "code",
      "execution_count": 826,
      "metadata": {
        "id": "Z1IVSImxvJCe"
      },
      "outputs": [],
      "source": [
        "# QG_g decision variables: QW_wh[w,p] captures the\n",
        "# optimal quantity to transport from healtcare to storages.\n",
        "QH_hg= m.addVars(healthwaste,storages, obj=TC_hg, name=\"QH_hg\")"
      ]
    },
    {
      "cell_type": "code",
      "source": [
        "QG_go= m.addVars(storages,treatments, obj=TC_go, name=\"QG_go\")"
      ],
      "metadata": {
        "id": "x20kWxmWcK_E"
      },
      "execution_count": 827,
      "outputs": []
    },
    {
      "cell_type": "code",
      "source": [
        "QO_ol= m.addVars(landfills,treatments, obj=TC_ol, name=\"QL_ol\")"
      ],
      "metadata": {
        "id": "jrBYH5A-tyn4"
      },
      "execution_count": 828,
      "outputs": []
    },
    {
      "cell_type": "code",
      "execution_count": 829,
      "metadata": {
        "id": "llua4n0-tbiE"
      },
      "outputs": [],
      "source": [
        "# QW_w decision variables: QW_wh[w,p] captures the\n",
        "# optimal quantity to transport to warehouse w from supplier s\n",
        "#QU_wh= m.addVar(vtype=GRB.CONTINUOUS, name=\"QU_wh\")"
      ]
    },
    {
      "cell_type": "code",
      "execution_count": 830,
      "metadata": {
        "id": "6xxAtKG6J-cO"
      },
      "outputs": [],
      "source": [
        "#m.setObjective((TC_sw[s,w] for s in TC_sw for w in TC_sw*QS_sw[w] for w in QS_sw), GRB.MINIMIZE)\n",
        "m.ModelSense=GRB.MINIMIZE\n"
      ]
    },
    {
      "cell_type": "code",
      "execution_count": 831,
      "metadata": {
        "colab": {
          "base_uri": "https://localhost:8080/"
        },
        "id": "uit5W_FYiIIh",
        "outputId": "ba09a0d6-b34c-4532-a9a8-4162a92a5ca5"
      },
      "outputs": [
        {
          "output_type": "execute_result",
          "data": {
            "text/plain": [
              "{0: <gurobi.Constr *Awaiting Model Update*>,\n",
              " 1: <gurobi.Constr *Awaiting Model Update*>,\n",
              " 2: <gurobi.Constr *Awaiting Model Update*>,\n",
              " 3: <gurobi.Constr *Awaiting Model Update*>}"
            ]
          },
          "metadata": {},
          "execution_count": 831
        }
      ],
      "source": [
        "# Production constraints # Note that the right-hand limit sets the production to zero if the plant # is closed\n",
        "m.addConstrs(((QS_sw).sum('*', s) <= CS[s]*S_s[s] for s in suppliers), \"Capacity of suppliers\")\n",
        "# Using Python looping constructs, the preceding would be...\n",
        "# for s in suppliers:\n",
        "#     m.addConstr(sum(QS_sw[w][s] for w in warehouses)\n",
        "#                 <= capacity[s] * S_s[s], \"Capacity[%d]\" % s)"
      ]
    },
    {
      "cell_type": "code",
      "execution_count": 832,
      "metadata": {
        "colab": {
          "base_uri": "https://localhost:8080/"
        },
        "id": "gdCkpF0sqSrS",
        "outputId": "86ff82e7-bb32-4755-ec17-b4a0f70c092a"
      },
      "outputs": [
        {
          "output_type": "execute_result",
          "data": {
            "text/plain": [
              "{0: <gurobi.Constr *Awaiting Model Update*>,\n",
              " 1: <gurobi.Constr *Awaiting Model Update*>,\n",
              " 2: <gurobi.Constr *Awaiting Model Update*>}"
            ]
          },
          "metadata": {},
          "execution_count": 832
        }
      ],
      "source": [
        "# warehouses capacity constraints\n",
        "m.addConstrs(((QW_wh).sum('*',w) <= CW[w]*W_w[w] for w in warehouses ), \"Capacity of warehouses\")"
      ]
    },
    {
      "cell_type": "code",
      "execution_count": 833,
      "metadata": {
        "colab": {
          "base_uri": "https://localhost:8080/"
        },
        "id": "2jKu38YyvwcT",
        "outputId": "f2b5c257-71ce-479c-d4ad-bcc359a1425c"
      },
      "outputs": [
        {
          "output_type": "execute_result",
          "data": {
            "text/plain": [
              "{0: <gurobi.Constr *Awaiting Model Update*>,\n",
              " 1: <gurobi.Constr *Awaiting Model Update*>,\n",
              " 2: <gurobi.Constr *Awaiting Model Update*>}"
            ]
          },
          "metadata": {},
          "execution_count": 833
        }
      ],
      "source": [
        "# storges capacity constraints\n",
        "m.addConstrs(((QH_hg).sum(g,'*') <= CG[g]*G_g[g] for g in storages ), \"Capacity of storages\")"
      ]
    },
    {
      "cell_type": "code",
      "source": [
        "# treatment capacity constraints\n",
        "m.addConstrs(((QG_go).sum('*',o) <= CO[o]*O_o[o] for o in treatments ), \"Capacity of treatments\")"
      ],
      "metadata": {
        "id": "muBrkF5ddKak",
        "colab": {
          "base_uri": "https://localhost:8080/"
        },
        "outputId": "c993a3ce-2d32-4a46-96d6-e68d57f9c631"
      },
      "execution_count": 834,
      "outputs": [
        {
          "output_type": "execute_result",
          "data": {
            "text/plain": [
              "{0: <gurobi.Constr *Awaiting Model Update*>,\n",
              " 1: <gurobi.Constr *Awaiting Model Update*>}"
            ]
          },
          "metadata": {},
          "execution_count": 834
        }
      ]
    },
    {
      "cell_type": "code",
      "source": [
        "# landfill capacity constraints\n",
        "m.addConstrs(((QO_ol).sum('*',l) <= CL[l]*L_l[l] for l in landfills ), \"Capacity of landfills\")"
      ],
      "metadata": {
        "colab": {
          "base_uri": "https://localhost:8080/"
        },
        "id": "1w62cIJAuY8S",
        "outputId": "ef3cc242-b257-4b1e-b9ab-f214cbf6ac1a"
      },
      "execution_count": 835,
      "outputs": [
        {
          "output_type": "execute_result",
          "data": {
            "text/plain": [
              "{0: <gurobi.Constr *Awaiting Model Update*>,\n",
              " 1: <gurobi.Constr *Awaiting Model Update*>}"
            ]
          },
          "metadata": {},
          "execution_count": 835
        }
      ]
    },
    {
      "cell_type": "code",
      "execution_count": 836,
      "metadata": {
        "colab": {
          "base_uri": "https://localhost:8080/"
        },
        "id": "uBMN2Nihph5N",
        "outputId": "a70f96fc-a513-4e08-ebc5-53013a97e873"
      },
      "outputs": [
        {
          "output_type": "execute_result",
          "data": {
            "text/plain": [
              "{0: <gurobi.Constr *Awaiting Model Update*>,\n",
              " 1: <gurobi.Constr *Awaiting Model Update*>}"
            ]
          },
          "metadata": {},
          "execution_count": 836
        }
      ],
      "source": [
        "# Demand constraints\n",
        "m.addConstrs(\n",
        "    (QW_wh.sum(h,'*') >= demand[h] for h in healthcentre), \"Demand\")"
      ]
    },
    {
      "cell_type": "code",
      "execution_count": 837,
      "metadata": {
        "colab": {
          "base_uri": "https://localhost:8080/"
        },
        "id": "z3rQW-03w23S",
        "outputId": "7406848d-96cb-4e9d-d6be-0746bcbc6bef"
      },
      "outputs": [
        {
          "output_type": "execute_result",
          "data": {
            "text/plain": [
              "{0: <gurobi.Constr *Awaiting Model Update*>,\n",
              " 1: <gurobi.Constr *Awaiting Model Update*>}"
            ]
          },
          "metadata": {},
          "execution_count": 837
        }
      ],
      "source": [
        "# waste constraints\n",
        "m.addConstrs(\n",
        "   ( QH_hg.sum(g,'*') == waste[g] for g in healthwaste), \"waste\")"
      ]
    },
    {
      "cell_type": "code",
      "execution_count": 838,
      "metadata": {
        "colab": {
          "base_uri": "https://localhost:8080/"
        },
        "id": "aNLCKTyGAKbj",
        "outputId": "3f2da803-80cf-4b4f-eccc-8abfecaa583a"
      },
      "outputs": [
        {
          "output_type": "execute_result",
          "data": {
            "text/plain": [
              "{0: <gurobi.Constr *Awaiting Model Update*>,\n",
              " 1: <gurobi.Constr *Awaiting Model Update*>,\n",
              " 2: <gurobi.Constr *Awaiting Model Update*>}"
            ]
          },
          "metadata": {},
          "execution_count": 838
        }
      ],
      "source": [
        "#Flow Balance constraint between suppliers and warehouses\n",
        "m.addConstrs((QS_sw.sum(w,'*') == QW_wh.sum('*',w) for w in warehouses), \"flow balance\")"
      ]
    },
    {
      "cell_type": "code",
      "source": [
        "#Flow Balance constraint between storages and treatments\n",
        "m.addConstrs((QG_go.sum(g,'*') == QH_hg.sum(g,'*') for g in storages), \"flow balance\")"
      ],
      "metadata": {
        "colab": {
          "base_uri": "https://localhost:8080/"
        },
        "id": "a1X0CaJNeYde",
        "outputId": "e474fff6-1f77-4c7f-f78b-f3894fb77598"
      },
      "execution_count": 839,
      "outputs": [
        {
          "output_type": "execute_result",
          "data": {
            "text/plain": [
              "{0: <gurobi.Constr *Awaiting Model Update*>,\n",
              " 1: <gurobi.Constr *Awaiting Model Update*>,\n",
              " 2: <gurobi.Constr *Awaiting Model Update*>}"
            ]
          },
          "metadata": {},
          "execution_count": 839
        }
      ]
    },
    {
      "cell_type": "code",
      "source": [
        "#Flow Balance constraint between treatments and landfills\n",
        "m.addConstrs((QG_go.sum('*',l) == QO_ol.sum(l,'*') for l in landfills), \"flow balance\")"
      ],
      "metadata": {
        "colab": {
          "base_uri": "https://localhost:8080/"
        },
        "id": "0OkplDF_u9NY",
        "outputId": "415c2e9c-ad2d-4e2a-820e-76bda1bdcb6f"
      },
      "execution_count": 840,
      "outputs": [
        {
          "output_type": "execute_result",
          "data": {
            "text/plain": [
              "{0: <gurobi.Constr *Awaiting Model Update*>,\n",
              " 1: <gurobi.Constr *Awaiting Model Update*>}"
            ]
          },
          "metadata": {},
          "execution_count": 840
        }
      ]
    },
    {
      "cell_type": "code",
      "execution_count": 841,
      "metadata": {
        "colab": {
          "base_uri": "https://localhost:8080/"
        },
        "id": "9omkz_ESpkhr",
        "outputId": "a81f144d-ae33-4dae-ef47-a2a344c5dce1"
      },
      "outputs": [
        {
          "output_type": "stream",
          "name": "stdout",
          "text": [
            "Gurobi Optimizer version 10.0.1 build v10.0.1rc0 (linux64)\n",
            "\n",
            "CPU model: Intel(R) Xeon(R) CPU @ 2.20GHz, instruction set [SSE2|AVX|AVX2]\n",
            "Thread count: 1 physical cores, 2 logical processors, using up to 2 threads\n",
            "\n",
            "Optimize a model with 26 rows, 48 columns and 100 nonzeros\n",
            "Model fingerprint: 0xb7d2a5f3\n",
            "Variable types: 34 continuous, 14 integer (14 binary)\n",
            "Coefficient statistics:\n",
            "  Matrix range     [1e+00, 2e+02]\n",
            "  Objective range  [4e+01, 3e+05]\n",
            "  Bounds range     [1e+00, 1e+00]\n",
            "  RHS range        [1e+01, 3e+01]\n",
            "Found heuristic solution: objective 6369800.0000\n",
            "Presolve removed 14 rows and 23 columns\n",
            "Presolve time: 0.00s\n",
            "Presolved: 12 rows, 25 columns, 49 nonzeros\n",
            "Found heuristic solution: objective 320500.00000\n",
            "Variable types: 18 continuous, 7 integer (7 binary)\n",
            "\n",
            "Root relaxation: objective 2.554480e+05, 15 iterations, 0.00 seconds (0.00 work units)\n",
            "\n",
            "    Nodes    |    Current Node    |     Objective Bounds      |     Work\n",
            " Expl Unexpl |  Obj  Depth IntInf | Incumbent    BestBd   Gap | It/Node Time\n",
            "\n",
            "     0     0 255447.980    0    3 320500.000 255447.980  20.3%     -    0s\n",
            "H    0     0                    279150.00000 255447.980  8.49%     -    0s\n",
            "H    0     0                    261900.00000 255447.980  2.46%     -    0s\n",
            "     0     0 260913.846    0    5 261900.000 260913.846  0.38%     -    0s\n",
            "\n",
            "Cutting planes:\n",
            "  Gomory: 1\n",
            "  Cover: 1\n",
            "  Implied bound: 1\n",
            "  Flow cover: 1\n",
            "  Flow path: 1\n",
            "\n",
            "Explored 1 nodes (21 simplex iterations) in 0.08 seconds (0.00 work units)\n",
            "Thread count was 2 (of 2 available processors)\n",
            "\n",
            "Solution count 4: 261900 279150 320500 6.3698e+06 \n",
            "\n",
            "Optimal solution found (tolerance 1.00e-04)\n",
            "Best objective 2.619000000000e+05, best bound 2.619000000000e+05, gap 0.0000%\n"
          ]
        }
      ],
      "source": [
        "m.optimize()"
      ]
    },
    {
      "cell_type": "code",
      "execution_count": 842,
      "metadata": {
        "colab": {
          "base_uri": "https://localhost:8080/"
        },
        "id": "PppxmyC611VC",
        "outputId": "df0b1ac8-11e0-40d2-98f3-cb98ecef9b66"
      },
      "outputs": [
        {
          "output_type": "stream",
          "name": "stdout",
          "text": [
            "S_s[0] 1\n",
            "S_s[1] 1\n",
            "S_s[2] -0\n",
            "S_s[3] -0\n",
            "W_w[0] 1\n",
            "W_w[1] 0\n",
            "W_w[2] 1\n",
            "G_g[0] 1\n",
            "G_g[1] 1\n",
            "G_g[2] 0\n",
            "O_o[0] 1\n",
            "O_o[1] -0\n",
            "L_l[0] 1\n",
            "L_l[1] -0\n",
            "QS_sw[0,0] 0\n",
            "QS_sw[0,1] 15\n",
            "QS_sw[0,2] 0\n",
            "QS_sw[0,3] 0\n",
            "QS_sw[1,0] 0\n",
            "QS_sw[1,1] 0\n",
            "QS_sw[1,2] 0\n",
            "QS_sw[1,3] 0\n",
            "QS_sw[2,0] 15\n",
            "QS_sw[2,1] 0\n",
            "QS_sw[2,2] 0\n",
            "QS_sw[2,3] 0\n",
            "QW_wh[0,0] 15\n",
            "QW_wh[0,1] 0\n",
            "QW_wh[0,2] 5\n",
            "QW_wh[1,0] 0\n",
            "QW_wh[1,1] 0\n",
            "QW_wh[1,2] 10\n",
            "QH_hg[0,0] 0\n",
            "QH_hg[0,1] 15\n",
            "QH_hg[0,2] 0\n",
            "QH_hg[1,0] 0\n",
            "QH_hg[1,1] 30\n",
            "QH_hg[1,2] 0\n",
            "QG_go[0,0] 15\n",
            "QG_go[0,1] 0\n",
            "QG_go[1,0] 30\n",
            "QG_go[1,1] 0\n",
            "QG_go[2,0] 0\n",
            "QG_go[2,1] 0\n",
            "QL_ol[0,0] 45\n",
            "QL_ol[0,1] 0\n",
            "QL_ol[1,0] 0\n",
            "QL_ol[1,1] 0\n",
            "Obj: 261900\n"
          ]
        }
      ],
      "source": [
        "for v in m.getVars():\n",
        "        print('%s %g' % (v.VarName, v.X))\n",
        "\n",
        "print('Obj: %g' % m.ObjVal)"
      ]
    }
  ],
  "metadata": {
    "colab": {
      "provenance": [],
      "authorship_tag": "ABX9TyOjVTJCFItuhF7bQIVQ2gPy",
      "include_colab_link": true
    },
    "kernelspec": {
      "display_name": "Python 3",
      "name": "python3"
    },
    "language_info": {
      "name": "python"
    }
  },
  "nbformat": 4,
  "nbformat_minor": 0
}