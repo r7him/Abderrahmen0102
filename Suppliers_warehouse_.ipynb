{
  "cells": [
    {
      "cell_type": "markdown",
      "metadata": {
        "id": "view-in-github",
        "colab_type": "text"
      },
      "source": [
        "<a href=\"https://colab.research.google.com/github/r7him/Abderrahmen0102/blob/main/Suppliers_warehouse_.ipynb\" target=\"_parent\"><img src=\"https://colab.research.google.com/assets/colab-badge.svg\" alt=\"Open In Colab\"/></a>"
      ]
    },
    {
      "cell_type": "code",
      "execution_count": 1797,
      "metadata": {
        "id": "Y8ehfxg7ZRQT"
      },
      "outputs": [],
      "source": [
        "!pip install gurobipy >10\n",
        "from gurobipy import *\n",
        "import numpy as np \n",
        "import pandas as np"
      ]
    },
    {
      "cell_type": "code",
      "execution_count": 1798,
      "metadata": {
        "id": "eORtzLauZc7_"
      },
      "outputs": [],
      "source": [
        "# Warehouse demand in thousands of units\n",
        "demand = [20, 10]\n",
        "waste= [15, 30]"
      ]
    },
    {
      "cell_type": "code",
      "execution_count": 1799,
      "metadata": {
        "id": "P26gqL9EgYuz"
      },
      "outputs": [],
      "source": [
        "# supplier capacity in thousands of units\n",
        "CS = [20, 15, 13,12]\n",
        "#warehouse capacity\n",
        "CW = [18, 22, 15]\n",
        "#warehouse capacity\n",
        "CG = [200, 100,50]\n",
        "CO = [200, 100]"
      ]
    },
    {
      "cell_type": "code",
      "execution_count": 1800,
      "metadata": {
        "id": "UxQNfPFJgfeO"
      },
      "outputs": [],
      "source": [
        "# Fixed costs for selectin a supplier.\n",
        "Fs = [2000, 15000, 17000,10000]"
      ]
    },
    {
      "cell_type": "code",
      "execution_count": 1801,
      "metadata": {
        "id": "9I2EvCkgCR26"
      },
      "outputs": [],
      "source": [
        "# Fixed costs for each warehouses.\n",
        "Fw = [16000, 15000,25000]"
      ]
    },
    {
      "cell_type": "code",
      "execution_count": 1802,
      "metadata": {
        "id": "loFUs8k3tK1h"
      },
      "outputs": [],
      "source": [
        "# Fixed costs for each storage.\n",
        "Fg = [12000, 10000,17000]"
      ]
    },
    {
      "cell_type": "code",
      "source": [
        "# Fixed costs for each storage.\n",
        "#Fo = [12000, 5000]"
      ],
      "metadata": {
        "id": "OlBNlNMka4M1"
      },
      "execution_count": 1803,
      "outputs": []
    },
    {
      "cell_type": "code",
      "execution_count": 1804,
      "metadata": {
        "id": "pr8oXtyUgiT9"
      },
      "outputs": [],
      "source": [
        "# Transportation costs from suppliers to warehouses\n",
        "TC_sw =       [[4000, 2000, 3000, 2500],\n",
        "              [2500, 2600, 3400, 3000],\n",
        "              [1200, 1800, 2600, 4100]]\n",
        "# Transportation costs from warehouses to healthcare centres\n",
        "\n",
        "TC_wh =      [[200, 150, 120],\n",
        "              [250, 260,130]]\n",
        "\n",
        "# Transportation costs of vaccine waste from to healthcare centres to waste storage.\n",
        "\n",
        "TC_hg=       [[4000, 2000],\n",
        "              [2500, 2600],\n",
        "              [1200, 1800]]\n",
        "# Transportation costs of vaccine waste from waste storage treatment storage.\n",
        "TC_go=       [[4000, 2000, 1500],\n",
        "              [2500, 2600, 7000]]"
      ]
    },
    {
      "cell_type": "code",
      "execution_count": 1805,
      "metadata": {
        "id": "aQfsWfarglyB"
      },
      "outputs": [],
      "source": [
        "# Range of plants and warehouses\n",
        "suppliers = range(len(CS))\n",
        "warehouses = range(len(CW))\n",
        "healthcentre= range(len(demand))\n",
        "storages    = range(len(CG))\n",
        "treatments = range(len(waste))"
      ]
    },
    {
      "cell_type": "code",
      "execution_count": 1806,
      "metadata": {
        "id": "pXKlhOh7grFW"
      },
      "outputs": [],
      "source": [
        "m=Model()"
      ]
    },
    {
      "cell_type": "code",
      "execution_count": 1807,
      "metadata": {
        "id": "Mns0JZycJwCB"
      },
      "outputs": [],
      "source": [
        "#suppliers open decision variables: S_s[s] == 1 if supplier s is open.\n",
        "S_s = m.addVars(suppliers,\n",
        "                 vtype=GRB.BINARY,\n",
        "                 obj=Fs,\n",
        "                 name=\"S_s\")\n",
        "# You could use Python looping constructs and m.addVar() to create\n",
        "# these decision variables instead.  The following would be equivalent\n",
        "# to the preceding two statements...\n",
        "#\n",
        "# S_s  = []\n",
        "# for s in suppliers:\n",
        "#     S_s .append(m.addVar(vtype=GRB.BINARY,\n",
        "#                          obj=fixedCost12[s],\n",
        "#                          name=\"S_s[%d]\" % s))"
      ]
    },
    {
      "cell_type": "code",
      "execution_count": 1808,
      "metadata": {
        "id": "IPvNcjS0gsu_"
      },
      "outputs": [],
      "source": [
        "#Warehous open decision variables: W_w[w] == 1 if warehouse w is open.\n",
        "W_w = m.addVars(warehouses,\n",
        "                 vtype=GRB.BINARY,\n",
        "                 obj=Fw,\n",
        "                 name=\"W_w\")\n",
        "# You could use Python looping constructs and m.addVar() to create\n",
        "# these decision variables instead.  The following would be equivalent\n",
        "# to the preceding two statements...\n",
        "#\n",
        "#W_w   = []\n",
        "# for w in warehouses:\n",
        "#     W_w .append(m.addVar(vtype=GRB.BINARY,\n",
        "#                          obj=fixedCost23[w],\n",
        "#                          name=\"W_w[%d]\" % w))"
      ]
    },
    {
      "cell_type": "code",
      "execution_count": 1809,
      "metadata": {
        "id": "3hmRblXYuy2c"
      },
      "outputs": [],
      "source": [
        "G_g = m.addVars(storages,\n",
        "                vtype=GRB.BINARY, \n",
        "                obj=Fg , \n",
        "                name=\"G_g\")"
      ]
    },
    {
      "cell_type": "code",
      "source": [
        "#O_o = m.addVars(treatments,\n",
        "                #vtype=GRB.BINARY, \n",
        "                #obj=Fo , \n",
        "                #name=\"O_o\")"
      ],
      "metadata": {
        "id": "HuibfHKKblKP"
      },
      "execution_count": 1810,
      "outputs": []
    },
    {
      "cell_type": "code",
      "execution_count": 1811,
      "metadata": {
        "id": "y0_ob50rhWmK"
      },
      "outputs": [],
      "source": [
        "# Transportation decision variables: transport[w,p] captures the\n",
        "# optimal quantity to transport to warehouse w from plant p\n",
        "(QS_sw)= m.addVars(warehouses,suppliers,obj=TC_sw, name=\"QS_sw\")\n",
        "# QS_sw = []\n",
        "# for s in suppliers:\n",
        "#     QS_sw.append([])\n",
        "#     for s in suppliers:\n",
        "#         QS_sw[w].append(m.addVar(obj=transCost12[w][p],\n",
        "#                                      name=\"trans[%d,%d]\" % (w, s)))"
      ]
    },
    {
      "cell_type": "code",
      "execution_count": 1812,
      "metadata": {
        "id": "p0cJ2PKuFIkW"
      },
      "outputs": [],
      "source": [
        "# QW_w decision variables: QW_wh[w,p] captures the\n",
        "# optimal quantity to transport to warehouse w from supplier s\n",
        "QW_wh= m.addVars(healthcentre,warehouses, obj=TC_wh, name=\"QW_wh\")\n"
      ]
    },
    {
      "cell_type": "code",
      "execution_count": 1813,
      "metadata": {
        "id": "Z1IVSImxvJCe"
      },
      "outputs": [],
      "source": [
        "# QG_g decision variables: QW_wh[w,p] captures the\n",
        "# optimal quantity to transport from healtcare to storages.\n",
        "QG_hg= m.addVars(healthcentre,storages, obj=TC_hg, name=\"QG_hg\")"
      ]
    },
    {
      "cell_type": "code",
      "source": [
        "QO_go= m.addVars(storages,treatments, obj=TC_go, name=\"QO_go\")"
      ],
      "metadata": {
        "id": "x20kWxmWcK_E"
      },
      "execution_count": 1814,
      "outputs": []
    },
    {
      "cell_type": "code",
      "execution_count": 1815,
      "metadata": {
        "id": "llua4n0-tbiE"
      },
      "outputs": [],
      "source": [
        "# QW_w decision variables: QW_wh[w,p] captures the\n",
        "# optimal quantity to transport to warehouse w from supplier s\n",
        "#QU_wh= m.addVar(vtype=GRB.CONTINUOUS, name=\"QU_wh\")"
      ]
    },
    {
      "cell_type": "code",
      "execution_count": 1816,
      "metadata": {
        "id": "6xxAtKG6J-cO"
      },
      "outputs": [],
      "source": [
        "#m.setObjective((TC_sw[s,w] for s in TC_sw for w in TC_sw*QS_sw[w] for w in QS_sw), GRB.MINIMIZE)\n",
        "m.ModelSense=GRB.MINIMIZE\n"
      ]
    },
    {
      "cell_type": "code",
      "execution_count": 1817,
      "metadata": {
        "colab": {
          "base_uri": "https://localhost:8080/"
        },
        "id": "uit5W_FYiIIh",
        "outputId": "76827a15-ab84-47ba-e81a-326acf1181b2"
      },
      "outputs": [
        {
          "output_type": "execute_result",
          "data": {
            "text/plain": [
              "{0: <gurobi.Constr *Awaiting Model Update*>,\n",
              " 1: <gurobi.Constr *Awaiting Model Update*>,\n",
              " 2: <gurobi.Constr *Awaiting Model Update*>,\n",
              " 3: <gurobi.Constr *Awaiting Model Update*>}"
            ]
          },
          "metadata": {},
          "execution_count": 1817
        }
      ],
      "source": [
        "# Production constraints # Note that the right-hand limit sets the production to zero if the plant # is closed\n",
        "m.addConstrs(((QS_sw).sum('*', s) <= CS[s]*S_s[s] for s in suppliers), \"Capacity of suppliers\")\n",
        "# Using Python looping constructs, the preceding would be...\n",
        "# for s in suppliers:\n",
        "#     m.addConstr(sum(QS_sw[w][s] for w in warehouses)\n",
        "#                 <= capacity[s] * S_s[s], \"Capacity[%d]\" % s)"
      ]
    },
    {
      "cell_type": "code",
      "execution_count": 1818,
      "metadata": {
        "colab": {
          "base_uri": "https://localhost:8080/"
        },
        "id": "gdCkpF0sqSrS",
        "outputId": "d0151f73-29e2-4cb5-f1a0-7ef6cf82f41f"
      },
      "outputs": [
        {
          "output_type": "execute_result",
          "data": {
            "text/plain": [
              "{0: <gurobi.Constr *Awaiting Model Update*>,\n",
              " 1: <gurobi.Constr *Awaiting Model Update*>,\n",
              " 2: <gurobi.Constr *Awaiting Model Update*>}"
            ]
          },
          "metadata": {},
          "execution_count": 1818
        }
      ],
      "source": [
        "# warehouses capacity constraints\n",
        "m.addConstrs(((QW_wh).sum('*',w) <= CW[w]*W_w[w] for w in warehouses ), \"Capacity of warehouses\")"
      ]
    },
    {
      "cell_type": "code",
      "execution_count": 1819,
      "metadata": {
        "colab": {
          "base_uri": "https://localhost:8080/"
        },
        "id": "2jKu38YyvwcT",
        "outputId": "c2c0e0ef-61cd-4841-8f1a-14b1eb59a27e"
      },
      "outputs": [
        {
          "output_type": "execute_result",
          "data": {
            "text/plain": [
              "{0: <gurobi.Constr *Awaiting Model Update*>,\n",
              " 1: <gurobi.Constr *Awaiting Model Update*>,\n",
              " 2: <gurobi.Constr *Awaiting Model Update*>}"
            ]
          },
          "metadata": {},
          "execution_count": 1819
        }
      ],
      "source": [
        "# storges capacity constraints\n",
        "m.addConstrs(((QG_hg).sum('*',g) <= CG[g]*G_g[g] for g in storages ), \"Capacity of storages\")"
      ]
    },
    {
      "cell_type": "code",
      "source": [
        "# treatment capacity constraints\n",
        "#m.addConstrs(((QO_go).sum('*',o) <= CO[o]*O_o[o] for o in treatments ), \"Capacity of treatments\")"
      ],
      "metadata": {
        "id": "muBrkF5ddKak"
      },
      "execution_count": 1820,
      "outputs": []
    },
    {
      "cell_type": "code",
      "execution_count": 1821,
      "metadata": {
        "colab": {
          "base_uri": "https://localhost:8080/"
        },
        "id": "uBMN2Nihph5N",
        "outputId": "8e5c4323-a627-43eb-80a2-5aaf0c6c99f2"
      },
      "outputs": [
        {
          "output_type": "execute_result",
          "data": {
            "text/plain": [
              "{0: <gurobi.Constr *Awaiting Model Update*>,\n",
              " 1: <gurobi.Constr *Awaiting Model Update*>}"
            ]
          },
          "metadata": {},
          "execution_count": 1821
        }
      ],
      "source": [
        "# Demand constraints\n",
        "m.addConstrs(\n",
        "    (QW_wh.sum(h,'*') >= demand[h] for h in healthcentre), \"Demand\")"
      ]
    },
    {
      "cell_type": "code",
      "execution_count": 1822,
      "metadata": {
        "colab": {
          "base_uri": "https://localhost:8080/"
        },
        "id": "z3rQW-03w23S",
        "outputId": "c5dd9144-5f74-4ef6-f21e-d6a7d03a3a3e"
      },
      "outputs": [
        {
          "output_type": "execute_result",
          "data": {
            "text/plain": [
              "{0: <gurobi.Constr *Awaiting Model Update*>,\n",
              " 1: <gurobi.Constr *Awaiting Model Update*>}"
            ]
          },
          "metadata": {},
          "execution_count": 1822
        }
      ],
      "source": [
        "# waste constraints\n",
        "m.addConstrs(\n",
        "   ( QO_go.sum(o,'*') == waste[o] for o in treatments), \"waste\")"
      ]
    },
    {
      "cell_type": "code",
      "execution_count": 1823,
      "metadata": {
        "colab": {
          "base_uri": "https://localhost:8080/"
        },
        "id": "aNLCKTyGAKbj",
        "outputId": "11604a75-f514-45d9-e3cf-aafed7f34617"
      },
      "outputs": [
        {
          "output_type": "execute_result",
          "data": {
            "text/plain": [
              "{0: <gurobi.Constr *Awaiting Model Update*>,\n",
              " 1: <gurobi.Constr *Awaiting Model Update*>,\n",
              " 2: <gurobi.Constr *Awaiting Model Update*>}"
            ]
          },
          "metadata": {},
          "execution_count": 1823
        }
      ],
      "source": [
        "#Flow Balance constraint between suppliers and warehouses\n",
        "m.addConstrs((QS_sw.sum(w,'*') == QW_wh.sum('*',w) for w in warehouses), \"flow balance\")"
      ]
    },
    {
      "cell_type": "code",
      "source": [
        "#Flow Balance constraint between suppliers and warehouses\n",
        "m.addConstrs((QO_go.sum(o,'*') == QG_hg.sum('*',o) for o in treatments), \"flow balance\")"
      ],
      "metadata": {
        "colab": {
          "base_uri": "https://localhost:8080/"
        },
        "id": "a1X0CaJNeYde",
        "outputId": "c6916926-2ffa-45b1-d04a-d3e79e90f956"
      },
      "execution_count": 1824,
      "outputs": [
        {
          "output_type": "execute_result",
          "data": {
            "text/plain": [
              "{0: <gurobi.Constr *Awaiting Model Update*>,\n",
              " 1: <gurobi.Constr *Awaiting Model Update*>}"
            ]
          },
          "metadata": {},
          "execution_count": 1824
        }
      ]
    },
    {
      "cell_type": "code",
      "execution_count": 1825,
      "metadata": {
        "colab": {
          "base_uri": "https://localhost:8080/"
        },
        "id": "9omkz_ESpkhr",
        "outputId": "080acf55-ae34-4669-99fe-3c0097024ec3"
      },
      "outputs": [
        {
          "output_type": "stream",
          "name": "stdout",
          "text": [
            "Gurobi Optimizer version 10.0.1 build v10.0.1rc0 (linux64)\n",
            "\n",
            "CPU model: Intel(R) Xeon(R) CPU @ 2.20GHz, instruction set [SSE2|AVX|AVX2]\n",
            "Thread count: 1 physical cores, 2 logical processors, using up to 2 threads\n",
            "\n",
            "Optimize a model with 19 rows, 40 columns and 70 nonzeros\n",
            "Model fingerprint: 0xd30c46fc\n",
            "Variable types: 30 continuous, 10 integer (10 binary)\n",
            "Coefficient statistics:\n",
            "  Matrix range     [1e+00, 2e+02]\n",
            "  Objective range  [1e+02, 2e+04]\n",
            "  Bounds range     [1e+00, 1e+00]\n",
            "  RHS range        [1e+01, 3e+01]\n",
            "Presolve removed 7 rows and 15 columns\n",
            "Presolve time: 0.00s\n",
            "Presolved: 12 rows, 25 columns, 49 nonzeros\n",
            "Variable types: 18 continuous, 7 integer (7 binary)\n",
            "Found heuristic solution: objective 282900.00000\n",
            "\n",
            "Root relaxation: objective 2.764480e+05, 15 iterations, 0.00 seconds (0.00 work units)\n",
            "\n",
            "    Nodes    |    Current Node    |     Objective Bounds      |     Work\n",
            " Expl Unexpl |  Obj  Depth IntInf | Incumbent    BestBd   Gap | It/Node Time\n",
            "\n",
            "     0     0 276447.980    0    3 282900.000 276447.980  2.28%     -    0s\n",
            "     0     0 281913.846    0    5 282900.000 281913.846  0.35%     -    0s\n",
            "\n",
            "Cutting planes:\n",
            "  Gomory: 2\n",
            "  Cover: 1\n",
            "  Implied bound: 1\n",
            "  Flow cover: 1\n",
            "  Flow path: 1\n",
            "\n",
            "Explored 1 nodes (21 simplex iterations) in 0.04 seconds (0.00 work units)\n",
            "Thread count was 2 (of 2 available processors)\n",
            "\n",
            "Solution count 1: 282900 \n",
            "\n",
            "Optimal solution found (tolerance 1.00e-04)\n",
            "Best objective 2.829000000000e+05, best bound 2.829000000000e+05, gap 0.0000%\n"
          ]
        }
      ],
      "source": [
        "m.optimize()"
      ]
    },
    {
      "cell_type": "code",
      "execution_count": 1826,
      "metadata": {
        "colab": {
          "base_uri": "https://localhost:8080/"
        },
        "id": "PppxmyC611VC",
        "outputId": "04dacb91-5d21-44d5-f3e2-85deb225be87"
      },
      "outputs": [
        {
          "output_type": "stream",
          "name": "stdout",
          "text": [
            "S_s[0] 1\n",
            "S_s[1] 1\n",
            "S_s[2] 0\n",
            "S_s[3] 0\n",
            "W_w[0] 1\n",
            "W_w[1] 0\n",
            "W_w[2] 1\n",
            "G_g[0] 1\n",
            "G_g[1] 1\n",
            "G_g[2] 0\n",
            "QS_sw[0,0] 0\n",
            "QS_sw[0,1] 15\n",
            "QS_sw[0,2] 0\n",
            "QS_sw[0,3] 0\n",
            "QS_sw[1,0] 0\n",
            "QS_sw[1,1] 0\n",
            "QS_sw[1,2] 0\n",
            "QS_sw[1,3] 0\n",
            "QS_sw[2,0] 15\n",
            "QS_sw[2,1] 0\n",
            "QS_sw[2,2] 0\n",
            "QS_sw[2,3] 0\n",
            "QW_wh[0,0] 15\n",
            "QW_wh[0,1] 0\n",
            "QW_wh[0,2] 5\n",
            "QW_wh[1,0] 0\n",
            "QW_wh[1,1] 0\n",
            "QW_wh[1,2] 10\n",
            "QG_hg[0,0] 0\n",
            "QG_hg[0,1] 0\n",
            "QG_hg[0,2] 0\n",
            "QG_hg[1,0] 15\n",
            "QG_hg[1,1] 30\n",
            "QG_hg[1,2] 0\n",
            "QO_go[0,0] 0\n",
            "QO_go[0,1] 15\n",
            "QO_go[1,0] 30\n",
            "QO_go[1,1] 0\n",
            "QO_go[2,0] 0\n",
            "QO_go[2,1] 0\n",
            "Obj: 282900\n"
          ]
        }
      ],
      "source": [
        "for v in m.getVars():\n",
        "        print('%s %g' % (v.VarName, v.X))\n",
        "\n",
        "print('Obj: %g' % m.ObjVal)"
      ]
    },
    {
      "cell_type": "code",
      "execution_count": 1826,
      "metadata": {
        "id": "Fg53n2XP36LB"
      },
      "outputs": [],
      "source": []
    }
  ],
  "metadata": {
    "colab": {
      "provenance": [],
      "authorship_tag": "ABX9TyOqCJ9oVLSG3ZIjB53A5zX8",
      "include_colab_link": true
    },
    "kernelspec": {
      "display_name": "Python 3",
      "name": "python3"
    },
    "language_info": {
      "name": "python"
    }
  },
  "nbformat": 4,
  "nbformat_minor": 0
}